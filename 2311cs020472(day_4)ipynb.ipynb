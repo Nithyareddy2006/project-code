{
  "nbformat": 4,
  "nbformat_minor": 0,
  "metadata": {
    "colab": {
      "provenance": []
    },
    "kernelspec": {
      "name": "python3",
      "display_name": "Python 3"
    },
    "language_info": {
      "name": "python"
    }
  },
  "cells": [
    {
      "cell_type": "markdown",
      "source": [
        "**Question**:\n",
        "Write a Python program to calculate the sum of all even numbers between 1 and a given positive integer n\n",
        "\n",
        "\n"
      ],
      "metadata": {
        "id": "_tBziUfpD5c_"
      }
    },
    {
      "cell_type": "code",
      "source": [
        "\n",
        "def sum_of_even_numbers(n):\n",
        "    total = 0\n",
        "    for i in range(2, n+1, 2):\n",
        "        total += i\n",
        "    return total\n",
        "n = int(input(\"Enter a positive integer: \"))\n",
        "if n > 0:\n",
        "    sum_even = sum_of_even_numbers(n)\n",
        "    print(f\"The sum of all even numbers between 1 and {n} is: {sum_even}\")\n",
        "else:\n",
        "    print(\"Please enter a positive integer.\")\n"
      ],
      "metadata": {
        "id": "tDC8ZG6BD_mb",
        "colab": {
          "base_uri": "https://localhost:8080/"
        },
        "outputId": "da59e704-34c9-43d5-ec18-2617834311ae"
      },
      "execution_count": 4,
      "outputs": [
        {
          "output_type": "stream",
          "name": "stdout",
          "text": [
            "Enter a positive integer: 89\n",
            "The sum of all even numbers between 1 and 89 is: 1980\n"
          ]
        }
      ]
    },
    {
      "cell_type": "code",
      "source": [],
      "metadata": {
        "id": "7vddR5lWGTfJ"
      },
      "execution_count": null,
      "outputs": []
    }
  ]
}