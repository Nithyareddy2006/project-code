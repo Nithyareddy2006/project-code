{
  "nbformat": 4,
  "nbformat_minor": 0,
  "metadata": {
    "colab": {
      "provenance": []
    },
    "kernelspec": {
      "name": "python3",
      "display_name": "Python 3"
    },
    "language_info": {
      "name": "python"
    }
  },
  "cells": [
    {
      "cell_type": "markdown",
      "source": [
        "**Question**:\n",
        "Create a List, tuple and Dictionary with 5 elements in it and how to access few elements based on the index. Try  with different examples"
      ],
      "metadata": {
        "id": "_tBziUfpD5c_"
      }
    },
    {
      "cell_type": "code",
      "source": [
        "my_list = [10, 20, 30, 40, 50]\n",
        "my_tuple = (10, 20, 30, 40, 50)\n",
        "my_dict = {\n",
        "    'first': 10,\n",
        "    'second': 20,\n",
        "    'third': 30,\n",
        "    'fourth': 40,\n",
        "    'fifth': 50\n",
        "}\n",
        "first_list_element = my_list[0]\n",
        "third_list_element = my_list[2]\n",
        "last_list_element = my_list[-1]\n",
        "print(\"List elements:\")\n",
        "print(first_list_element)\n",
        "print(third_list_element)\n",
        "print(last_list_element)\n",
        "first_tuple_element = my_tuple[0]\n",
        "third_tuple_element = my_tuple[2]\n",
        "last_tuple_element = my_tuple[-1]\n",
        "print(\"\\nTuple elements:\")\n",
        "print(first_tuple_element)\n",
        "print(third_tuple_element)\n",
        "first_dict_value = my_dict['first']\n",
        "third_dict_value = my_dict['third']\n",
        "print(\"\\nDictionary elements:\")\n",
        "print(first_dict_value)\n",
        "print(third_dict_value)"
      ],
      "metadata": {
        "colab": {
          "base_uri": "https://localhost:8080/"
        },
        "id": "fSNtMY4tD91c",
        "outputId": "05bc5535-2976-4018-f8f1-f830f0a4e8cb"
      },
      "execution_count": 2,
      "outputs": [
        {
          "output_type": "stream",
          "name": "stdout",
          "text": [
            "List elements:\n",
            "10\n",
            "30\n",
            "50\n",
            "\n",
            "Tuple elements:\n",
            "10\n",
            "30\n",
            "\n",
            "Dictionary elements:\n",
            "10\n",
            "30\n"
          ]
        }
      ]
    },
    {
      "cell_type": "code",
      "source": [],
      "metadata": {
        "id": "tDC8ZG6BD_mb"
      },
      "execution_count": null,
      "outputs": []
    }
  ]
}