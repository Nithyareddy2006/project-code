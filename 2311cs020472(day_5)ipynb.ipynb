{
  "nbformat": 4,
  "nbformat_minor": 0,
  "metadata": {
    "colab": {
      "provenance": []
    },
    "kernelspec": {
      "name": "python3",
      "display_name": "Python 3"
    },
    "language_info": {
      "name": "python"
    }
  },
  "cells": [
    {
      "cell_type": "markdown",
      "source": [
        "**Question**:\n",
        "1)Write a Python program that performs the following tasks:\n",
        "\n",
        "1. Ask the user to enter a positive integer `n`.\n",
        "2. Use a `for` loop to print all numbers from `1` to `n` on separate lines.\n",
        "3. Use a `while` loop to calculate the sum of all numbers from `1` to `n` and print the result.\n",
        "\n",
        "\n"
      ],
      "metadata": {
        "id": "_tBziUfpD5c_"
      }
    },
    {
      "cell_type": "code",
      "source": [
        "\n",
        "n = int(input(\"Enter a positive integer: \"))\n",
        "for i in range(1, n + 1):\n",
        "    print(i)\n",
        "sum = 0\n",
        "i = 1\n",
        "while i <= n:\n",
        "    sum += i\n",
        "    i += 1\n",
        "\n",
        "print(\"The sum of all numbers from 1 to\", n, \"is:\", sum)\n"
      ],
      "metadata": {
        "colab": {
          "base_uri": "https://localhost:8080/"
        },
        "id": "7vddR5lWGTfJ",
        "outputId": "29d83624-b41e-4498-f05a-800083fc2c2b"
      },
      "execution_count": 6,
      "outputs": [
        {
          "output_type": "stream",
          "name": "stdout",
          "text": [
            "Enter a positive integer: 78\n",
            "1\n",
            "2\n",
            "3\n",
            "4\n",
            "5\n",
            "6\n",
            "7\n",
            "8\n",
            "9\n",
            "10\n",
            "11\n",
            "12\n",
            "13\n",
            "14\n",
            "15\n",
            "16\n",
            "17\n",
            "18\n",
            "19\n",
            "20\n",
            "21\n",
            "22\n",
            "23\n",
            "24\n",
            "25\n",
            "26\n",
            "27\n",
            "28\n",
            "29\n",
            "30\n",
            "31\n",
            "32\n",
            "33\n",
            "34\n",
            "35\n",
            "36\n",
            "37\n",
            "38\n",
            "39\n",
            "40\n",
            "41\n",
            "42\n",
            "43\n",
            "44\n",
            "45\n",
            "46\n",
            "47\n",
            "48\n",
            "49\n",
            "50\n",
            "51\n",
            "52\n",
            "53\n",
            "54\n",
            "55\n",
            "56\n",
            "57\n",
            "58\n",
            "59\n",
            "60\n",
            "61\n",
            "62\n",
            "63\n",
            "64\n",
            "65\n",
            "66\n",
            "67\n",
            "68\n",
            "69\n",
            "70\n",
            "71\n",
            "72\n",
            "73\n",
            "74\n",
            "75\n",
            "76\n",
            "77\n",
            "78\n",
            "The sum of all numbers from 1 to 78 is: 3081\n"
          ]
        }
      ]
    },
    {
      "cell_type": "markdown",
      "source": [
        "**Question**:2)Write a Python program that includes a user-defined function to perform the following tasks:\n",
        "\n",
        "1. Define a function named calculate_square that takes a single argument `n` and returns the square of `n`.\n",
        "2. In the main program, ask the user to input a positive integer.\n",
        "3. Call the calculate_square function with the user-provided number and display the result.\n",
        "\n",
        "\n",
        "\n"
      ],
      "metadata": {
        "id": "fUUMGTtGG91K"
      }
    },
    {
      "cell_type": "code",
      "source": [
        "\n",
        "def calculate_square(n):\n",
        "    return n * n\n",
        "n = int(input(\"Enter a positive integer: \"))\n",
        "result = calculate_square(n)\n",
        "print(\"The square of\", n, \"is:\", result)\n"
      ],
      "metadata": {
        "colab": {
          "base_uri": "https://localhost:8080/"
        },
        "id": "r_OIBNcyG36W",
        "outputId": "0f1318a6-03de-46da-fe38-4f52682d4a6b"
      },
      "execution_count": 7,
      "outputs": [
        {
          "output_type": "stream",
          "name": "stdout",
          "text": [
            "Enter a positive integer: 10\n",
            "The square of 10 is: 100\n"
          ]
        }
      ]
    },
    {
      "cell_type": "code",
      "source": [],
      "metadata": {
        "id": "yVG2gRoSHHFq"
      },
      "execution_count": null,
      "outputs": []
    }
  ]
}