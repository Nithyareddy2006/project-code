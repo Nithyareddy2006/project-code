{
  "nbformat": 4,
  "nbformat_minor": 0,
  "metadata": {
    "colab": {
      "provenance": []
    },
    "kernelspec": {
      "name": "python3",
      "display_name": "Python 3"
    },
    "language_info": {
      "name": "python"
    }
  },
  "cells": [
    {
      "cell_type": "markdown",
      "source": [
        "Coding Questions\n",
        "1. Jupyter Notebook and Data Types\n",
        "Write a program in Jupyter Notebook to declare variables of different data types (integer, float, string, and boolean). Print each variable and its type.\n"
      ],
      "metadata": {
        "id": "_tBziUfpD5c_"
      }
    },
    {
      "cell_type": "code",
      "source": [
        "# Declare variables of different data types\n",
        "integer_variable = 10\n",
        "float_variable = 3.14\n",
        "string_variable = \"Hello, world!\"\n",
        "boolean_variable = True\n",
        "\n",
        "# Print each variable and its type\n",
        "print(\"Integer value:\", integer_variable, \"Type:\", type(integer_variable))\n",
        "print(\"Float value:\", float_variable, \"Type:\", type(float_variable))\n",
        "print(\"String value:\", string_variable, \"Type:\", type(string_variable))\n",
        "print(\"Boolean value:\", boolean_variable, \"Type:\", type(boolean_variable))\n"
      ],
      "metadata": {
        "colab": {
          "base_uri": "https://localhost:8080/"
        },
        "id": "fSNtMY4tD91c",
        "outputId": "91a255b9-0f86-4913-e7f9-e5a39a044fd6"
      },
      "execution_count": null,
      "outputs": [
        {
          "output_type": "stream",
          "name": "stdout",
          "text": [
            "Integer value: 10 Type: <class 'int'>\n",
            "Float value: 3.14 Type: <class 'float'>\n",
            "String value: Hello, world! Type: <class 'str'>\n",
            "Boolean value: True Type: <class 'bool'>\n"
          ]
        }
      ]
    },
    {
      "cell_type": "code",
      "source": [],
      "metadata": {
        "id": "tDC8ZG6BD_mb"
      },
      "execution_count": null,
      "outputs": []
    }
  ]
}