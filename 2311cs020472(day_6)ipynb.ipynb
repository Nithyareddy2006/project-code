{
  "nbformat": 4,
  "nbformat_minor": 0,
  "metadata": {
    "colab": {
      "provenance": []
    },
    "kernelspec": {
      "name": "python3",
      "display_name": "Python 3"
    },
    "language_info": {
      "name": "python"
    }
  },
  "cells": [
    {
      "cell_type": "markdown",
      "source": [
        "**Question**:\n",
        "Using the Pandas library, perform the following tasks:\n",
        "\n",
        "1. Create a DataFrame from the following data:\n",
        "   | Name     | Age | Department   | Salary  |\n",
        "   |----------|-----|--------------|---------|\n",
        "   | John     | 28  | HR           | 45000   |\n",
        "   | Alice    | 34  | IT           | 60000   |\n",
        "   | Bob      | 23  | Marketing    | 35000   |\n",
        "   | Diana    | 29  | Finance      | 50000   |\n"
      ],
      "metadata": {
        "id": "_tBziUfpD5c_"
      }
    },
    {
      "cell_type": "code",
      "source": [
        "import pandas as pd\n",
        "data = {\n",
        "    'Name': ['John', 'Alice', 'Bob', 'Diana'],\n",
        "    'Age': [28, 34, 23, 29],\n",
        "    'Department': ['HR', 'IT', 'Marketing', 'Finance'],\n",
        "    'Salary': [45000, 60000, 35000, 50000]\n",
        "}\n",
        "df = pd.DataFrame(data)\n",
        "print(df)\n"
      ],
      "metadata": {
        "colab": {
          "base_uri": "https://localhost:8080/"
        },
        "id": "7vddR5lWGTfJ",
        "outputId": "a6f5b797-20df-437a-a919-121d86c9719d"
      },
      "execution_count": 12,
      "outputs": [
        {
          "output_type": "stream",
          "name": "stdout",
          "text": [
            "    Name  Age Department  Salary\n",
            "0   John   28         HR   45000\n",
            "1  Alice   34         IT   60000\n",
            "2    Bob   23  Marketing   35000\n",
            "3  Diana   29    Finance   50000\n"
          ]
        }
      ]
    },
    {
      "cell_type": "markdown",
      "source": [
        "**Question**:\n",
        "2. Write code to:\n",
        "   - Display the first 2 rows of the DataFrame.\n",
        "   - Add a new column named `Bonus` where the bonus is 10% of the salary.\n",
        "   - Calculate the average salary of employees in the DataFrame.\n",
        "   - Filter and display employees who are older than 25.\n",
        "\n",
        "\n",
        "\n"
      ],
      "metadata": {
        "id": "fUUMGTtGG91K"
      }
    },
    {
      "cell_type": "code",
      "source": [
        "import pandas as pd\n",
        "data = {\n",
        "    'Name': ['John', 'Alice', 'Bob', 'Diana'],\n",
        "    'Age': [28, 34, 23, 29],\n",
        "    'Department': ['HR', 'IT', 'Marketing', 'Finance'],\n",
        "    'Salary': [45000, 60000, 35000, 50000]\n",
        "}\n",
        "df = pd.DataFrame(data)\n",
        "print(\"First 2 rows of the DataFrame:\")\n",
        "print(df.head(2))\n",
        "df['Bonus'] = df['Salary'] * 0.10\n",
        "print(\"\\nDataFrame with Bonus column:\")\n",
        "print(df)\n",
        "average_salary = df['Salary'].mean()\n",
        "print(\"\\nAverage salary of employees:\")\n",
        "print(average_salary)\n",
        "filtered_employees = df[df['Age'] > 25]\n",
        "print(\"\\nEmployees who are older than 25:\")\n",
        "print(filtered_employees)\n",
        "\n"
      ],
      "metadata": {
        "colab": {
          "base_uri": "https://localhost:8080/"
        },
        "id": "r_OIBNcyG36W",
        "outputId": "1fb4795c-1d55-47d9-ae5f-e1cd8de1b635"
      },
      "execution_count": 13,
      "outputs": [
        {
          "output_type": "stream",
          "name": "stdout",
          "text": [
            "First 2 rows of the DataFrame:\n",
            "    Name  Age Department  Salary\n",
            "0   John   28         HR   45000\n",
            "1  Alice   34         IT   60000\n",
            "\n",
            "DataFrame with Bonus column:\n",
            "    Name  Age Department  Salary   Bonus\n",
            "0   John   28         HR   45000  4500.0\n",
            "1  Alice   34         IT   60000  6000.0\n",
            "2    Bob   23  Marketing   35000  3500.0\n",
            "3  Diana   29    Finance   50000  5000.0\n",
            "\n",
            "Average salary of employees:\n",
            "47500.0\n",
            "\n",
            "Employees who are older than 25:\n",
            "    Name  Age Department  Salary   Bonus\n",
            "0   John   28         HR   45000  4500.0\n",
            "1  Alice   34         IT   60000  6000.0\n",
            "3  Diana   29    Finance   50000  5000.0\n"
          ]
        }
      ]
    },
    {
      "cell_type": "code",
      "source": [],
      "metadata": {
        "id": "yVG2gRoSHHFq"
      },
      "execution_count": null,
      "outputs": []
    }
  ]
}