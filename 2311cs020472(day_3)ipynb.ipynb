{
  "nbformat": 4,
  "nbformat_minor": 0,
  "metadata": {
    "colab": {
      "provenance": []
    },
    "kernelspec": {
      "name": "python3",
      "display_name": "Python 3"
    },
    "language_info": {
      "name": "python"
    }
  },
  "cells": [
    {
      "cell_type": "markdown",
      "source": [
        "**Question**:\n",
        "Write a Python program that takes a student's marks in three subjects as input.\n",
        "If the average is greater than or equal to 90, print \"Grade: A\".\n",
        "If the average is between 80 and 89, print \"Grade: B\".\n",
        "If the average is between 70 and 79, print \"Grade: C\".\n",
        "Otherwise, print \"Grade: Fail\".\n",
        "\n"
      ],
      "metadata": {
        "id": "_tBziUfpD5c_"
      }
    },
    {
      "cell_type": "code",
      "source": [
        "marks1 = float(input(\"Enter marks for subject 1: \"))\n",
        "marks2 = float(input(\"Enter marks for subject 2: \"))\n",
        "marks3 = float(input(\"Enter marks for subject 3: \"))\n",
        "average = (marks1 + marks2 + marks3) / 3\n",
        "if average >= 90:\n",
        "    grade = \"Grade: A\"\n",
        "elif 80 <= average < 90:\n",
        "    grade = \"Grade: B\"\n",
        "elif 70 <= average < 80:\n",
        "    grade = \"Grade: C\"\n",
        "else:\n",
        "    grade = \"Grade: Fail\"\n",
        "print(grade)\n"
      ],
      "metadata": {
        "colab": {
          "base_uri": "https://localhost:8080/"
        },
        "id": "fSNtMY4tD91c",
        "outputId": "aedbf34d-87bc-4b93-d3d9-b17f7d0c6bcf"
      },
      "execution_count": 3,
      "outputs": [
        {
          "output_type": "stream",
          "name": "stdout",
          "text": [
            "Enter marks for subject 1: 99\n",
            "Enter marks for subject 2: 89\n",
            "Enter marks for subject 3: 79\n",
            "Grade: B\n"
          ]
        }
      ]
    },
    {
      "cell_type": "code",
      "source": [],
      "metadata": {
        "id": "tDC8ZG6BD_mb"
      },
      "execution_count": null,
      "outputs": []
    }
  ]
}