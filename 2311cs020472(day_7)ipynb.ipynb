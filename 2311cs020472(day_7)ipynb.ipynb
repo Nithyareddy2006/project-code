{
  "nbformat": 4,
  "nbformat_minor": 0,
  "metadata": {
    "colab": {
      "provenance": []
    },
    "kernelspec": {
      "name": "python3",
      "display_name": "Python 3"
    },
    "language_info": {
      "name": "python"
    }
  },
  "cells": [
    {
      "cell_type": "markdown",
      "source": [
        "**Question**:\n",
        "Load and Explore the Data\n",
        "Load the sales_data.csv file using Pandas.\n",
        "Display the first 5 rows of the dataset.\n",
        "Print basic statistics (mean, median, min, max, etc.) of the numerical columns using .describe().\n",
        "\n"
      ],
      "metadata": {
        "id": "_tBziUfpD5c_"
      }
    },
    {
      "cell_type": "code",
      "source": [
        "import pandas as pd\n",
        "data = {\n",
        "    'Name': ['John', 'Alice', 'Bob', 'Diana'],\n",
        "    'Age': [28, 34, 23, 29],\n",
        "    'Department': ['HR', 'IT', 'Marketing', 'Finance'],\n",
        "    'Salary': [45000, 60000, 35000, 50000]\n",
        "}\n",
        "df = pd.DataFrame(data)\n",
        "print(df)\n"
      ],
      "metadata": {
        "colab": {
          "base_uri": "https://localhost:8080/"
        },
        "id": "7vddR5lWGTfJ",
        "outputId": "a6f5b797-20df-437a-a919-121d86c9719d"
      },
      "execution_count": 12,
      "outputs": [
        {
          "output_type": "stream",
          "name": "stdout",
          "text": [
            "    Name  Age Department  Salary\n",
            "0   John   28         HR   45000\n",
            "1  Alice   34         IT   60000\n",
            "2    Bob   23  Marketing   35000\n",
            "3  Diana   29    Finance   50000\n"
          ]
        }
      ]
    },
    {
      "cell_type": "markdown",
      "source": [
        "**Question**:\n",
        "Data Analysis\n",
        "Calculate the total sales for each region.\n",
        "Find the most sold product (based on quantity).\n",
        "Compute the average profit margin for each product. (Profit margin = Profit / Sales * 100)\n",
        "\n",
        "\n"
      ],
      "metadata": {
        "id": "fUUMGTtGG91K"
      }
    },
    {
      "cell_type": "code",
      "source": [
        "import pandas as pd\n",
        "\n",
        "# Sample Data\n",
        "data = {'Region': ['North', 'South', 'East', 'West', 'North', 'South', 'East', 'West'],\n",
        "        'Product': ['A', 'B', 'C', 'D', 'A', 'B', 'C', 'D'],\n",
        "        'Quantity': [10, 15, 10, 20, 10, 15, 20, 10],\n",
        "        'Sales': [100, 150, 200, 250, 100, 150, 200, 250],\n",
        "        'Profit': [20, 30, 50, 60, 20, 30, 50, 60]}\n",
        "\n",
        "df = pd.DataFrame(data)\n",
        "\n",
        "# Calculate total sales for each region\n",
        "total_sales_region = df.groupby('Region')['Sales'].sum()\n",
        "\n",
        "# Find the most sold product based on quantity\n",
        "most_sold_product = df.groupby('Product')['Quantity'].sum().idxmax()\n",
        "\n",
        "# Compute the average profit margin for each product\n",
        "df['Profit_Margin'] = (df['Profit'] / df['Sales']) * 100\n",
        "average_profit_margin_product = df.groupby('Product')['Profit_Margin'].mean()\n",
        "\n",
        "# Display the results\n",
        "print(\"Total Sales by Region:\\n\", total_sales_region)\n",
        "print(\"\\nMost Sold Product based on Quantity:\\n\", most_sold_product)\n",
        "print(\"\\nAverage Profit Margin for each Product:\\n\", average_profit_margin_product)\n"
      ],
      "metadata": {
        "colab": {
          "base_uri": "https://localhost:8080/"
        },
        "id": "r_OIBNcyG36W",
        "outputId": "8ae6e0e6-83e0-4e2d-db00-2016fa8ed2f2"
      },
      "execution_count": 14,
      "outputs": [
        {
          "output_type": "stream",
          "name": "stdout",
          "text": [
            "Total Sales by Region:\n",
            " Region\n",
            "East     400\n",
            "North    200\n",
            "South    300\n",
            "West     500\n",
            "Name: Sales, dtype: int64\n",
            "\n",
            "Most Sold Product based on Quantity:\n",
            " B\n",
            "\n",
            "Average Profit Margin for each Product:\n",
            " Product\n",
            "A    20.0\n",
            "B    20.0\n",
            "C    25.0\n",
            "D    24.0\n",
            "Name: Profit_Margin, dtype: float64\n"
          ]
        }
      ]
    },
    {
      "cell_type": "code",
      "source": [],
      "metadata": {
        "id": "yVG2gRoSHHFq"
      },
      "execution_count": null,
      "outputs": []
    }
  ]
}